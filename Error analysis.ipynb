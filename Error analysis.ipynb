{
 "cells": [
  {
   "cell_type": "code",
   "execution_count": 1,
   "id": "55255ada",
   "metadata": {},
   "outputs": [],
   "source": [
    "import pandas as pd"
   ]
  },
  {
   "cell_type": "code",
   "execution_count": 16,
   "id": "342602e9",
   "metadata": {},
   "outputs": [],
   "source": [
    "my_examples = pd.read_json(\"ann_with_feats.json\").sort_index()[:361]"
   ]
  },
  {
   "cell_type": "code",
   "execution_count": 19,
   "id": "888053e6",
   "metadata": {},
   "outputs": [],
   "source": [
    "my_examples = my_examples[my_examples.annotator_initials != 'NK']"
   ]
  },
  {
   "cell_type": "code",
   "execution_count": 52,
   "id": "2cd39554",
   "metadata": {},
   "outputs": [],
   "source": [
    "LABELS = ['word_count', 'mean_specificity', 'median_specificity',\n",
    "       'max_specificity', 'min_specificity', 'ratio_specificity',\n",
    "       'aspect_coverage', 'aspect_count_clarity',\n",
    "       'aspect_count_meaningful_comparison', 'aspect_count_motivation',\n",
    "       'aspect_count_originality', 'aspect_count_replicability',\n",
    "       'aspect_count_soundness', 'aspect_count_substance',\n",
    "       'aspect_count_summary', 'argument_count_evaluation',\n",
    "       'argument_count_fact', 'argument_count_quote',\n",
    "       'argument_count_reference', 'argument_count_request', 'Please',\n",
    "       'Please_start', 'HASHEDGE', 'Indirect_(btw)', 'Hedges', 'Factuality',\n",
    "       'Deference', 'Gratitude', 'Apologizing', '1st_person_pl.', '1st_person',\n",
    "       '1st_person_start', '2nd_person', '2nd_person_start',\n",
    "       'Indirect_(greeting)', 'Direct_question', 'Direct_start', 'HASPOSITIVE',\n",
    "       'HASNEGATIVE', 'SUBJUNCTIVE', 'INDICATIVE']"
   ]
  },
  {
   "cell_type": "code",
   "execution_count": 59,
   "id": "9c304cfe",
   "metadata": {},
   "outputs": [],
   "source": [
    "class Example(object):\n",
    "    def __init__(self, info_dict):\n",
    "        self.labels = {k:info_dict[k] for k in LABELS}\n",
    "        self.review_id = info_dict[\"review_id\"]\n",
    "        self.review_text = info_dict[\"review_text\"]\n",
    "        \n",
    "    def __repr__(self):\n",
    "        return self.review_text[:100] + \"...\""
   ]
  },
  {
   "cell_type": "code",
   "execution_count": 64,
   "id": "aa2e40ae",
   "metadata": {},
   "outputs": [],
   "source": [
    "features_map = {}\n",
    "for row in my_examples.to_dict(orient='records'):\n",
    "    if row[\"review_id\"] in features_map:\n",
    "        continue\n",
    "    elif row[\"review_text\"] is None:\n",
    "        continue\n",
    "    else:\n",
    "        features_map[row[\"review_id\"]] = Example(row)"
   ]
  },
  {
   "cell_type": "code",
   "execution_count": 65,
   "id": "b6d6a4ac",
   "metadata": {},
   "outputs": [
    {
     "data": {
      "text/plain": [
       "91"
      ]
     },
     "execution_count": 65,
     "metadata": {},
     "output_type": "execute_result"
    }
   ],
   "source": [
    "len(features_map)"
   ]
  },
  {
   "cell_type": "code",
   "execution_count": 84,
   "id": "3e60ea58",
   "metadata": {},
   "outputs": [],
   "source": [
    "fn_counter = 0\n",
    "for rev_id, example in features_map.items():\n",
    "    if 'polo' in example.review_text:\n",
    "        print(example.review_text)\n",
    "        print(\"*\"* 80)\n",
    "#     if 'lease' in example.review_text and example.labels[\"Please_start\"] == 0.0:\n",
    "#         print(\"=\" * 80)\n",
    "#         print(rev_id, example.labels[\"Please_start\"])\n",
    "#         print(example.review_text)\n",
    "#         print()\n",
    "#         fn_counter += 1\n"
   ]
  },
  {
   "cell_type": "code",
   "execution_count": 85,
   "id": "f1a43708",
   "metadata": {},
   "outputs": [
    {
     "name": "stdout",
     "output_type": "stream",
     "text": [
      "0\n"
     ]
    }
   ],
   "source": [
    "print(fn_counter)"
   ]
  },
  {
   "cell_type": "code",
   "execution_count": 98,
   "id": "f99a1ba5",
   "metadata": {},
   "outputs": [],
   "source": [
    "fact_counter = collections.Counter()\n",
    "for k, v in features_map.items():\n",
    "    fact_counter[v.labels[\"Apologizing\"]] += 1"
   ]
  },
  {
   "cell_type": "code",
   "execution_count": 99,
   "id": "1d8ab6e4",
   "metadata": {},
   "outputs": [
    {
     "data": {
      "text/plain": [
       "Counter({0.0: 82,\n",
       "         nan: 1,\n",
       "         nan: 1,\n",
       "         nan: 1,\n",
       "         nan: 1,\n",
       "         nan: 1,\n",
       "         nan: 1,\n",
       "         nan: 1,\n",
       "         nan: 1,\n",
       "         nan: 1})"
      ]
     },
     "execution_count": 99,
     "metadata": {},
     "output_type": "execute_result"
    }
   ],
   "source": [
    "fact_counter"
   ]
  },
  {
   "cell_type": "code",
   "execution_count": null,
   "id": "d5cc56d7",
   "metadata": {},
   "outputs": [],
   "source": []
  }
 ],
 "metadata": {
  "kernelspec": {
   "display_name": "Python 3",
   "language": "python",
   "name": "python3"
  },
  "language_info": {
   "codemirror_mode": {
    "name": "ipython",
    "version": 3
   },
   "file_extension": ".py",
   "mimetype": "text/x-python",
   "name": "python",
   "nbconvert_exporter": "python",
   "pygments_lexer": "ipython3",
   "version": "3.8.2"
  }
 },
 "nbformat": 4,
 "nbformat_minor": 5
}
